{
 "cells": [
  {
   "cell_type": "markdown",
   "metadata": {},
   "source": [
    "## 学習済みモデルのロード"
   ]
  },
  {
   "cell_type": "code",
   "execution_count": 1,
   "metadata": {
    "scrolled": true
   },
   "outputs": [
    {
     "name": "stderr",
     "output_type": "stream",
     "text": [
      "C:\\Users\\iiats\\Anaconda3\\envs\\Python36-gpu\\lib\\site-packages\\tensorflow\\python\\framework\\dtypes.py:516: FutureWarning: Passing (type, 1) or '1type' as a synonym of type is deprecated; in a future version of numpy, it will be understood as (type, (1,)) / '(1,)type'.\n",
      "  _np_qint8 = np.dtype([(\"qint8\", np.int8, 1)])\n",
      "C:\\Users\\iiats\\Anaconda3\\envs\\Python36-gpu\\lib\\site-packages\\tensorflow\\python\\framework\\dtypes.py:517: FutureWarning: Passing (type, 1) or '1type' as a synonym of type is deprecated; in a future version of numpy, it will be understood as (type, (1,)) / '(1,)type'.\n",
      "  _np_quint8 = np.dtype([(\"quint8\", np.uint8, 1)])\n",
      "C:\\Users\\iiats\\Anaconda3\\envs\\Python36-gpu\\lib\\site-packages\\tensorflow\\python\\framework\\dtypes.py:518: FutureWarning: Passing (type, 1) or '1type' as a synonym of type is deprecated; in a future version of numpy, it will be understood as (type, (1,)) / '(1,)type'.\n",
      "  _np_qint16 = np.dtype([(\"qint16\", np.int16, 1)])\n",
      "C:\\Users\\iiats\\Anaconda3\\envs\\Python36-gpu\\lib\\site-packages\\tensorflow\\python\\framework\\dtypes.py:519: FutureWarning: Passing (type, 1) or '1type' as a synonym of type is deprecated; in a future version of numpy, it will be understood as (type, (1,)) / '(1,)type'.\n",
      "  _np_quint16 = np.dtype([(\"quint16\", np.uint16, 1)])\n",
      "C:\\Users\\iiats\\Anaconda3\\envs\\Python36-gpu\\lib\\site-packages\\tensorflow\\python\\framework\\dtypes.py:520: FutureWarning: Passing (type, 1) or '1type' as a synonym of type is deprecated; in a future version of numpy, it will be understood as (type, (1,)) / '(1,)type'.\n",
      "  _np_qint32 = np.dtype([(\"qint32\", np.int32, 1)])\n",
      "C:\\Users\\iiats\\Anaconda3\\envs\\Python36-gpu\\lib\\site-packages\\tensorflow\\python\\framework\\dtypes.py:525: FutureWarning: Passing (type, 1) or '1type' as a synonym of type is deprecated; in a future version of numpy, it will be understood as (type, (1,)) / '(1,)type'.\n",
      "  np_resource = np.dtype([(\"resource\", np.ubyte, 1)])\n",
      "C:\\Users\\iiats\\Anaconda3\\envs\\Python36-gpu\\lib\\site-packages\\tensorboard\\compat\\tensorflow_stub\\dtypes.py:541: FutureWarning: Passing (type, 1) or '1type' as a synonym of type is deprecated; in a future version of numpy, it will be understood as (type, (1,)) / '(1,)type'.\n",
      "  _np_qint8 = np.dtype([(\"qint8\", np.int8, 1)])\n",
      "C:\\Users\\iiats\\Anaconda3\\envs\\Python36-gpu\\lib\\site-packages\\tensorboard\\compat\\tensorflow_stub\\dtypes.py:542: FutureWarning: Passing (type, 1) or '1type' as a synonym of type is deprecated; in a future version of numpy, it will be understood as (type, (1,)) / '(1,)type'.\n",
      "  _np_quint8 = np.dtype([(\"quint8\", np.uint8, 1)])\n",
      "C:\\Users\\iiats\\Anaconda3\\envs\\Python36-gpu\\lib\\site-packages\\tensorboard\\compat\\tensorflow_stub\\dtypes.py:543: FutureWarning: Passing (type, 1) or '1type' as a synonym of type is deprecated; in a future version of numpy, it will be understood as (type, (1,)) / '(1,)type'.\n",
      "  _np_qint16 = np.dtype([(\"qint16\", np.int16, 1)])\n",
      "C:\\Users\\iiats\\Anaconda3\\envs\\Python36-gpu\\lib\\site-packages\\tensorboard\\compat\\tensorflow_stub\\dtypes.py:544: FutureWarning: Passing (type, 1) or '1type' as a synonym of type is deprecated; in a future version of numpy, it will be understood as (type, (1,)) / '(1,)type'.\n",
      "  _np_quint16 = np.dtype([(\"quint16\", np.uint16, 1)])\n",
      "C:\\Users\\iiats\\Anaconda3\\envs\\Python36-gpu\\lib\\site-packages\\tensorboard\\compat\\tensorflow_stub\\dtypes.py:545: FutureWarning: Passing (type, 1) or '1type' as a synonym of type is deprecated; in a future version of numpy, it will be understood as (type, (1,)) / '(1,)type'.\n",
      "  _np_qint32 = np.dtype([(\"qint32\", np.int32, 1)])\n",
      "C:\\Users\\iiats\\Anaconda3\\envs\\Python36-gpu\\lib\\site-packages\\tensorboard\\compat\\tensorflow_stub\\dtypes.py:550: FutureWarning: Passing (type, 1) or '1type' as a synonym of type is deprecated; in a future version of numpy, it will be understood as (type, (1,)) / '(1,)type'.\n",
      "  np_resource = np.dtype([(\"resource\", np.ubyte, 1)])\n"
     ]
    }
   ],
   "source": [
    "from tensorflow.keras.models import load_model\n",
    "model = load_model('2020-09-27-epoch50.h5')"
   ]
  },
  {
   "cell_type": "code",
   "execution_count": 2,
   "metadata": {},
   "outputs": [
    {
     "data": {
      "text/plain": [
       "<tensorflow.python.keras.engine.sequential.Sequential at 0x19107df3b00>"
      ]
     },
     "execution_count": 2,
     "metadata": {},
     "output_type": "execute_result"
    }
   ],
   "source": [
    "model"
   ]
  },
  {
   "cell_type": "markdown",
   "metadata": {},
   "source": [
    "## 画像データの読み込み"
   ]
  },
  {
   "cell_type": "code",
   "execution_count": 3,
   "metadata": {},
   "outputs": [
    {
     "name": "stderr",
     "output_type": "stream",
     "text": [
      "Using TensorFlow backend.\n"
     ]
    }
   ],
   "source": [
    "# 画像の読み込み\n",
    "\n",
    "import os\n",
    "import random\n",
    "from keras.preprocessing.image import load_img\n",
    "\n",
    "filenames = os.listdir(\"./images\")\n",
    "IMAGE_SIZE=(48, 48)\n",
    "\n",
    "sample = random.choice(filenames)\n",
    "img = load_img(\"./images/\"+sample, target_size=IMAGE_SIZE)\n",
    "img_org = img"
   ]
  },
  {
   "cell_type": "code",
   "execution_count": 4,
   "metadata": {},
   "outputs": [
    {
     "data": {
      "image/png": "[encoded data removed]",
      "text/plain": [
       "<PIL.Image.Image image mode=RGB size=48x48 at 0x1ED127C30F0>"
      ]
     },
     "execution_count": 4,
     "metadata": {},
     "output_type": "execute_result"
    }
   ],
   "source": [
    "img"
   ]
  },
  {
   "cell_type": "markdown",
   "metadata": {},
   "source": [
    "## 画像データの変換"
   ]
  },
  {
   "cell_type": "code",
   "execution_count": 5,
   "metadata": {},
   "outputs": [],
   "source": [
    "# グレースケースに変換\n",
    "# Numpy だけ使う方法\n",
    "# import numpy as np\n",
    "# img = np.asarray(img) # Numpy配列に変換\n",
    "# img_gray = 0.299 * img[:, :, 2] + 0.587 * img[:, :, 1] + 0.114 * img[:, :, 0]\n",
    "# img_gray.shape"
   ]
  },
  {
   "cell_type": "code",
   "execution_count": 6,
   "metadata": {},
   "outputs": [
    {
     "data": {
      "text/plain": [
       "(48, 48)"
      ]
     },
     "execution_count": 6,
     "metadata": {},
     "output_type": "execute_result"
    }
   ],
   "source": [
    "# グレースケースに変換\n",
    "\n",
    "import numpy as np\n",
    "import cv2 # カラー画像をグレーに変換\n",
    "\n",
    "img = np.asarray(img) # Numpy配列に変換\n",
    "img_gray = cv2.cvtColor(img, cv2.COLOR_BGR2GRAY) # カラー画像をグレーに変換\n",
    "img_gray.shape"
   ]
  },
  {
   "cell_type": "code",
   "execution_count": 7,
   "metadata": {},
   "outputs": [
    {
     "data": {
      "text/plain": [
       "(1, 48, 48, 1)"
      ]
     },
     "execution_count": 7,
     "metadata": {},
     "output_type": "execute_result"
    }
   ],
   "source": [
    "# モデルの入力する配列に変換\n",
    "img_gray = img_gray.reshape(-1, 48, 48, 1)/255.0\n",
    "img_gray.shape"
   ]
  },
  {
   "cell_type": "code",
   "execution_count": 8,
   "metadata": {
    "scrolled": true
   },
   "outputs": [
    {
     "data": {
      "text/plain": [
       "array([[[[0.57254902],\n",
       "         [0.58039216],\n",
       "         [0.4       ],\n",
       "         ...,\n",
       "         [0.28235294],\n",
       "         [0.25098039],\n",
       "         [0.23921569]],\n",
       "\n",
       "        [[0.56078431],\n",
       "         [0.56862745],\n",
       "         [0.44313725],\n",
       "         ...,\n",
       "         [0.7254902 ],\n",
       "         [0.73333333],\n",
       "         [0.72156863]],\n",
       "\n",
       "        [[0.56470588],\n",
       "         [0.56470588],\n",
       "         [0.47058824],\n",
       "         ...,\n",
       "         [0.7372549 ],\n",
       "         [0.72941176],\n",
       "         [0.72941176]],\n",
       "\n",
       "        ...,\n",
       "\n",
       "        [[0.4745098 ],\n",
       "         [0.1372549 ],\n",
       "         [0.35294118],\n",
       "         ...,\n",
       "         [0.84705882],\n",
       "         [0.83921569],\n",
       "         [0.83529412]],\n",
       "\n",
       "        [[0.13333333],\n",
       "         [0.50196078],\n",
       "         [0.36862745],\n",
       "         ...,\n",
       "         [0.82745098],\n",
       "         [0.82352941],\n",
       "         [0.81960784]],\n",
       "\n",
       "        [[0.41568627],\n",
       "         [0.50588235],\n",
       "         [0.40392157],\n",
       "         ...,\n",
       "         [0.15686275],\n",
       "         [0.34117647],\n",
       "         [0.3372549 ]]]])"
      ]
     },
     "execution_count": 8,
     "metadata": {},
     "output_type": "execute_result"
    }
   ],
   "source": [
    "img_gray"
   ]
  },
  {
   "cell_type": "markdown",
   "metadata": {
    "id": "hztwHklSpVSX"
   },
   "source": [
    "## 予想"
   ]
  },
  {
   "cell_type": "code",
   "execution_count": 9,
   "metadata": {
    "id": "VVxq41JLCWjU",
    "scrolled": true
   },
   "outputs": [
    {
     "data": {
      "text/plain": [
       "array([[0.61820054, 0.01161765, 0.17450659, 0.09141395, 0.03509336,\n",
       "        0.02131378, 0.0478542 ]], dtype=float32)"
      ]
     },
     "execution_count": 9,
     "metadata": {},
     "output_type": "execute_result"
    }
   ],
   "source": [
    "pred= model.predict(img_gray)\n",
    "pred"
   ]
  },
  {
   "cell_type": "code",
   "execution_count": 10,
   "metadata": {},
   "outputs": [
    {
     "data": {
      "text/plain": [
       "array([0.61820054], dtype=float32)"
      ]
     },
     "execution_count": 10,
     "metadata": {},
     "output_type": "execute_result"
    }
   ],
   "source": [
    "pred[:,0]"
   ]
  },
  {
   "cell_type": "code",
   "execution_count": 11,
   "metadata": {
    "id": "s9ZFcIXL3cGk"
   },
   "outputs": [
    {
     "name": "stdout",
     "output_type": "stream",
     "text": [
      "Angry:  [0.61820054]\n",
      "Disgust:  [0.01161765]\n",
      "Fear:  [0.17450659]\n",
      "Happy : [0.09141395]\n",
      "Sad:  [0.03509336]\n",
      "Surprise:  [0.02131378]\n",
      "Neutral:  [0.0478542]\n"
     ]
    },
    {
     "data": {
      "image/png": "[encoded data removed]",
      "text/plain": [
       "<Figure size 432x288 with 1 Axes>"
      ]
     },
     "metadata": {
      "needs_background": "light"
     },
     "output_type": "display_data"
    }
   ],
   "source": [
    "import matplotlib.pyplot as plt\n",
    "\n",
    "def predict_emotion(pred):\n",
    "    plt.imshow(img_org) # 入力したオリジナルイメージ\n",
    "    \n",
    "    print(\"Angry: \", pred[:,0])\n",
    "    print(\"Disgust: \", pred[:,1])\n",
    "    print(\"Fear: \", pred[:,2])\n",
    "    print(\"Happy :\", pred[:,3])\n",
    "    print(\"Sad: \", pred[:,4])\n",
    "    print(\"Surprise: \", pred[:,5])\n",
    "    print(\"Neutral: \", pred[:,6])\n",
    "\n",
    "predict_emotion(pred)"
   ]
  },
  {
   "cell_type": "markdown",
   "metadata": {},
   "source": [
    "## 関数化"
   ]
  },
  {
   "cell_type": "code",
   "execution_count": 3,
   "metadata": {},
   "outputs": [
    {
     "name": "stderr",
     "output_type": "stream",
     "text": [
      "Using TensorFlow backend.\n"
     ]
    }
   ],
   "source": [
    "import os\n",
    "import random\n",
    "from keras.preprocessing.image import load_img\n",
    "import numpy as np\n",
    "import cv2 # カラー画像をグレーに変換\n",
    "import matplotlib.pyplot as plt"
   ]
  },
  {
   "cell_type": "code",
   "execution_count": 4,
   "metadata": {},
   "outputs": [],
   "source": [
    "filenames = os.listdir(\"./images\")\n",
    "IMAGE_SIZE=(48, 48)\n",
    "\n",
    "sample = random.choice(filenames)\n",
    "img = load_img(\"./images/\"+sample, target_size=IMAGE_SIZE)"
   ]
  },
  {
   "cell_type": "code",
   "execution_count": 5,
   "metadata": {},
   "outputs": [],
   "source": [
    "def Pred_Emotion(model, img):\n",
    "    \n",
    "    plt.imshow(img) # 入力したオリジナルイメージ\n",
    "    \n",
    "    img = np.asarray(img) # Numpy配列に変換\n",
    "    img_gray = cv2.cvtColor(img, cv2.COLOR_BGR2GRAY) # カラー画像をグレーに変換\n",
    "    img_gray = img_gray.reshape(-1, 48, 48, 1)/255.0\n",
    "    pred= model.predict(img_gray)\n",
    "\n",
    "    print(\"Angry: \", pred[:,0])\n",
    "    print(\"Disgust: \", pred[:,1])\n",
    "    print(\"Fear: \", pred[:,2])\n",
    "    print(\"Happy :\", pred[:,3])\n",
    "    print(\"Sad: \", pred[:,4])\n",
    "    print(\"Surprise: \", pred[:,5])\n",
    "    print(\"Neutral: \", pred[:,6])"
   ]
  },
  {
   "cell_type": "code",
   "execution_count": 6,
   "metadata": {},
   "outputs": [
    {
     "name": "stdout",
     "output_type": "stream",
     "text": [
      "Angry:  [0.5963299]\n",
      "Disgust:  [0.00551492]\n",
      "Fear:  [0.19614355]\n",
      "Happy : [0.00786764]\n",
      "Sad:  [0.06149349]\n",
      "Surprise:  [0.03863638]\n",
      "Neutral:  [0.09401407]\n"
     ]
    },
    {
     "data": {
      "image/png": "[encoded data removed]",
      "text/plain": [
       "<Figure size 432x288 with 1 Axes>"
      ]
     },
     "metadata": {
      "needs_background": "light"
     },
     "output_type": "display_data"
    }
   ],
   "source": [
    "Pred_Emotion(model, img)"
   ]
  },
  {
   "cell_type": "code",
   "execution_count": null,
   "metadata": {},
   "outputs": [],
   "source": []
  }
 ],
 "metadata": {
  "accelerator": "GPU",
  "colab": {
   "collapsed_sections": [],
   "name": "make_model.ipynb",
   "provenance": []
  },
  "kernelspec": {
   "display_name": "Python 3",
   "language": "python",
   "name": "python3"
  },
  "language_info": {
   "codemirror_mode": {
    "name": "ipython",
    "version": 3
   },
   "file_extension": ".py",
   "mimetype": "text/x-python",
   "name": "python",
   "nbconvert_exporter": "python",
   "pygments_lexer": "ipython3",
   "version": "3.6.10"
  }
 },
 "nbformat": 4,
 "nbformat_minor": 1
}
